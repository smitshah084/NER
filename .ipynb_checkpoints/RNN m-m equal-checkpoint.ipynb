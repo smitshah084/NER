{
 "cells": [
  {
   "cell_type": "code",
   "execution_count": 3,
   "id": "99e8cd47-7ce4-427b-957c-2c4b4f6d2cb9",
   "metadata": {},
   "outputs": [
    {
     "name": "stderr",
     "output_type": "stream",
     "text": [
      "C:\\Users\\smits\\AppData\\Local\\Programs\\Python\\Python312\\Lib\\site-packages\\sentence_transformers\\cross_encoder\\CrossEncoder.py:11: TqdmExperimentalWarning: Using `tqdm.autonotebook.tqdm` in notebook mode. Use `tqdm.tqdm` instead to force console mode (e.g. in jupyter console)\n",
      "  from tqdm.autonotebook import tqdm, trange\n"
     ]
    }
   ],
   "source": [
    "import pandas as pd\n",
    "import numpy as np\n",
    "import  torch as t\n",
    "from sentence_transformers import SentenceTransformer\n",
    "import matplotlib.pyplot as plt\n",
    "import pickle \n",
    "from IPython.display import clear_output"
   ]
  },
  {
   "cell_type": "code",
   "execution_count": 2,
   "id": "236b3860-03b4-4898-9f37-8c5ff64ea9fb",
   "metadata": {},
   "outputs": [],
   "source": [
    "df = pd.read_csv('./NER/ner_dataset.csv',encoding='latin1').drop(['POS'],axis=1)\n",
    "df['Sentence #'] = df['Sentence #'].str.extract(r'Sentence: (\\d+)')\n",
    "df['Sentence #'] = df['Sentence #'].fillna(0)"
   ]
  },
  {
   "cell_type": "code",
   "execution_count": 12,
   "id": "5fc32b46-d48f-4a65-bff2-45781584a2ae",
   "metadata": {},
   "outputs": [
    {
     "data": {
      "text/plain": [
       "Sentence #    0\n",
       "Word          0\n",
       "Tag           0\n",
       "dtype: int64"
      ]
     },
     "execution_count": 12,
     "metadata": {},
     "output_type": "execute_result"
    }
   ],
   "source": [
    "df.isnull().sum()"
   ]
  },
  {
   "cell_type": "code",
   "execution_count": 11,
   "id": "aa8353b3-a4b0-4ddc-9b00-baad4b063ec4",
   "metadata": {},
   "outputs": [],
   "source": [
    "df.dropna(axis=0,how='any',inplace=True)"
   ]
  },
  {
   "cell_type": "code",
   "execution_count": 3,
   "id": "aa5c0d3f-ff6c-459b-b477-3cd28269c0fe",
   "metadata": {},
   "outputs": [],
   "source": [
    "# %%capture\n",
    "# model_name='sentence-transformers/paraphrase-MiniLM-L6-v2'\n",
    "# model = SentenceTransformer(model_name)\n",
    "\n",
    "# def text_to_embeddings(texts,model):\n",
    "#         embeddings = model.encode(texts, show_progress_bar=True)\n",
    "#         return embeddings"
   ]
  },
  {
   "cell_type": "code",
   "execution_count": 4,
   "id": "459f4b53-0a74-42e9-b66e-e6d4b66f2c3f",
   "metadata": {},
   "outputs": [],
   "source": [
    "emb_dic = {}"
   ]
  },
  {
   "cell_type": "code",
   "execution_count": 5,
   "id": "e948ccd4-c196-458e-8049-46e28a4b0b5b",
   "metadata": {},
   "outputs": [],
   "source": [
    "# for idx,i in enumerate(df['Word'].unique()[15463:]):\n",
    "#     i = str(i)\n",
    "#     emb_dic[i] = text_to_embeddings(i,model)\n",
    "#     if idx % 100 == 0:\n",
    "#         clear_output(wait=True)\n",
    "#         print(idx)\n",
    "# with open('emb_dic.pkl', 'wb') as f:\n",
    "#     pickle.dump(emb_dic, f)\n",
    "\n",
    "with open('emb_dic.pkl', 'rb') as f:\n",
    "    emb_dic = pickle.load(f)"
   ]
  },
  {
   "cell_type": "code",
   "execution_count": 26,
   "id": "622cfe5e-665f-422b-91ac-82bfc6789a4d",
   "metadata": {},
   "outputs": [],
   "source": [
    "tag_encode = {v:i for i,v in enumerate(df['Tag'].unique())}\n",
    "tag_decode = {i:v for i,v in enumerate(df['Tag'].unique())}"
   ]
  },
  {
   "cell_type": "code",
   "execution_count": 27,
   "id": "7b57605a-755f-469b-bcae-05b8b188342d",
   "metadata": {},
   "outputs": [
    {
     "data": {
      "text/plain": [
       "array(['O', 'B-geo', 'B-gpe', 'B-per', 'I-geo', 'B-org', 'I-org', 'B-tim',\n",
       "       'B-art', 'I-art', 'I-per', 'I-gpe', 'I-tim', 'B-nat', 'B-eve',\n",
       "       'I-eve', 'I-nat'], dtype=object)"
      ]
     },
     "execution_count": 27,
     "metadata": {},
     "output_type": "execute_result"
    }
   ],
   "source": [
    "df['Tag'].unique()"
   ]
  },
  {
   "cell_type": "code",
   "execution_count": 31,
   "id": "b3449a0a-865c-45ed-8363-e0632a38bdd9",
   "metadata": {},
   "outputs": [
    {
     "name": "stderr",
     "output_type": "stream",
     "text": [
      "C:\\Users\\smits\\AppData\\Local\\Temp\\ipykernel_7180\\3248338958.py:4: DeprecationWarning: DataFrameGroupBy.apply operated on the grouping columns. This behavior is deprecated, and in a future version of pandas the grouping columns will be excluded from the operation. Either pass `include_groups=False` to exclude the groupings or explicitly select the grouping columns after groupby to silence this warning.\n",
      "  examples = df.groupby('Tag').apply(get_examples).reset_index(drop=True)\n"
     ]
    },
    {
     "data": {
      "text/html": [
       "<div>\n",
       "<style scoped>\n",
       "    .dataframe tbody tr th:only-of-type {\n",
       "        vertical-align: middle;\n",
       "    }\n",
       "\n",
       "    .dataframe tbody tr th {\n",
       "        vertical-align: top;\n",
       "    }\n",
       "\n",
       "    .dataframe thead th {\n",
       "        text-align: right;\n",
       "    }\n",
       "</style>\n",
       "<table border=\"1\" class=\"dataframe\">\n",
       "  <thead>\n",
       "    <tr style=\"text-align: right;\">\n",
       "      <th></th>\n",
       "      <th>Sentence #</th>\n",
       "      <th>Word</th>\n",
       "      <th>Tag</th>\n",
       "    </tr>\n",
       "  </thead>\n",
       "  <tbody>\n",
       "    <tr>\n",
       "      <th>0</th>\n",
       "      <td>0</td>\n",
       "      <td>Facebook</td>\n",
       "      <td>B-art</td>\n",
       "    </tr>\n",
       "    <tr>\n",
       "      <th>1</th>\n",
       "      <td>0</td>\n",
       "      <td>Katrina</td>\n",
       "      <td>B-eve</td>\n",
       "    </tr>\n",
       "    <tr>\n",
       "      <th>2</th>\n",
       "      <td>0</td>\n",
       "      <td>Kerala</td>\n",
       "      <td>B-geo</td>\n",
       "    </tr>\n",
       "    <tr>\n",
       "      <th>3</th>\n",
       "      <td>0</td>\n",
       "      <td>Australian</td>\n",
       "      <td>B-gpe</td>\n",
       "    </tr>\n",
       "    <tr>\n",
       "      <th>4</th>\n",
       "      <td>0</td>\n",
       "      <td>AIDS</td>\n",
       "      <td>B-nat</td>\n",
       "    </tr>\n",
       "    <tr>\n",
       "      <th>5</th>\n",
       "      <td>0</td>\n",
       "      <td>Pacific</td>\n",
       "      <td>B-org</td>\n",
       "    </tr>\n",
       "    <tr>\n",
       "      <th>6</th>\n",
       "      <td>0</td>\n",
       "      <td>Mr.</td>\n",
       "      <td>B-per</td>\n",
       "    </tr>\n",
       "    <tr>\n",
       "      <th>7</th>\n",
       "      <td>17007</td>\n",
       "      <td>Wednesday</td>\n",
       "      <td>B-tim</td>\n",
       "    </tr>\n",
       "    <tr>\n",
       "      <th>8</th>\n",
       "      <td>0</td>\n",
       "      <td>:</td>\n",
       "      <td>I-art</td>\n",
       "    </tr>\n",
       "    <tr>\n",
       "      <th>9</th>\n",
       "      <td>0</td>\n",
       "      <td>Games</td>\n",
       "      <td>I-eve</td>\n",
       "    </tr>\n",
       "    <tr>\n",
       "      <th>10</th>\n",
       "      <td>0</td>\n",
       "      <td>Hebrides</td>\n",
       "      <td>I-geo</td>\n",
       "    </tr>\n",
       "    <tr>\n",
       "      <th>11</th>\n",
       "      <td>0</td>\n",
       "      <td>Serb</td>\n",
       "      <td>I-gpe</td>\n",
       "    </tr>\n",
       "    <tr>\n",
       "      <th>12</th>\n",
       "      <td>0</td>\n",
       "      <td>Rita</td>\n",
       "      <td>I-nat</td>\n",
       "    </tr>\n",
       "    <tr>\n",
       "      <th>13</th>\n",
       "      <td>0</td>\n",
       "      <td>Party</td>\n",
       "      <td>I-org</td>\n",
       "    </tr>\n",
       "    <tr>\n",
       "      <th>14</th>\n",
       "      <td>0</td>\n",
       "      <td>Bush</td>\n",
       "      <td>I-per</td>\n",
       "    </tr>\n",
       "    <tr>\n",
       "      <th>15</th>\n",
       "      <td>0</td>\n",
       "      <td>night</td>\n",
       "      <td>I-tim</td>\n",
       "    </tr>\n",
       "    <tr>\n",
       "      <th>16</th>\n",
       "      <td>0</td>\n",
       "      <td>of</td>\n",
       "      <td>O</td>\n",
       "    </tr>\n",
       "  </tbody>\n",
       "</table>\n",
       "</div>"
      ],
      "text/plain": [
       "   Sentence #        Word    Tag\n",
       "0           0    Facebook  B-art\n",
       "1           0     Katrina  B-eve\n",
       "2           0      Kerala  B-geo\n",
       "3           0  Australian  B-gpe\n",
       "4           0        AIDS  B-nat\n",
       "5           0     Pacific  B-org\n",
       "6           0         Mr.  B-per\n",
       "7       17007   Wednesday  B-tim\n",
       "8           0           :  I-art\n",
       "9           0       Games  I-eve\n",
       "10          0    Hebrides  I-geo\n",
       "11          0        Serb  I-gpe\n",
       "12          0        Rita  I-nat\n",
       "13          0       Party  I-org\n",
       "14          0        Bush  I-per\n",
       "15          0       night  I-tim\n",
       "16          0          of      O"
      ]
     },
     "execution_count": 31,
     "metadata": {},
     "output_type": "execute_result"
    }
   ],
   "source": [
    "def get_examples(group, n=1):\n",
    "    return group.sample(n=min(len(group), n))\n",
    "\n",
    "examples = df.groupby('Tag').apply(get_examples).reset_index(drop=True)\n",
    "examples.head(examples.shape[0])"
   ]
  },
  {
   "cell_type": "code",
   "execution_count": 40,
   "id": "7cea519d-8c61-46ce-a6d1-d71291a19073",
   "metadata": {},
   "outputs": [
    {
     "name": "stdout",
     "output_type": "stream",
     "text": [
      "104.8\n"
     ]
    },
    {
     "data": {
      "text/plain": [
       "[]"
      ]
     },
     "execution_count": 40,
     "metadata": {},
     "output_type": "execute_result"
    }
   ],
   "source": [
    "x_emb = []\n",
    "y = []\n",
    "inner_x_emb = []\n",
    "inner_y = []\n",
    "\n",
    "for idx,i in enumerate(df.values):\n",
    "    if i[0]!=0:\n",
    "        y.append(inner_y)\n",
    "        x_emb.append(inner_x_emb)\n",
    "        if i[0]==300:\n",
    "            break\n",
    "        inner_y = []\n",
    "        inner_x_emb = []\n",
    "    \n",
    "    if idx % 1000 == 0:\n",
    "        clear_output(wait=True)\n",
    "        print(idx/10000)\n",
    "        \n",
    "        \n",
    "    inner_x_emb.append( t.tensor( emb_dic[str(i[1])] ) )\n",
    "    inner_y.append( t.tensor( tag_encode[i[2]] ) )\n",
    "    \n",
    "x_emb.pop(0)\n",
    "y.pop(0)"
   ]
  },
  {
   "cell_type": "code",
   "execution_count": 61,
   "id": "4bf08eaf-bf6f-4ced-b275-00429f6515f7",
   "metadata": {},
   "outputs": [],
   "source": [
    "# with open('x_emb.pkl', 'wb') as f:\n",
    "#     pickle.dump(x_emb, f)\n",
    "# with open('y.pkl', 'wb') as f:\n",
    "#     pickle.dump(y, f)\n",
    "\n",
    "with open('x_emb.pkl', 'rb') as f:\n",
    "    x_emb = pickle.load(x_emb, f)\n",
    "with open('y.pkl', 'wb') as f:\n",
    "    y = pickle.load(y, f)"
   ]
  },
  {
   "cell_type": "code",
   "execution_count": 70,
   "id": "7097eee5-4ed9-4b36-bd39-c06046af83a3",
   "metadata": {},
   "outputs": [],
   "source": [
    "x_shape = x_emb[0][0][None,:].shape\n",
    "n_hidden1 = 128\n",
    "n_hidden2 = 32\n",
    "num_classes = len(tag_encode.keys())"
   ]
  },
  {
   "attachments": {
    "7f9d5ee4-833d-4552-9322-51ca5d0e8941.png": {
     "image/png": "[encoded data removed]"
    }
   },
   "cell_type": "markdown",
   "id": "f18957de-b850-490a-a634-db64c1d0df61",
   "metadata": {},
   "source": [
    "![image.png](attachment:7f9d5ee4-833d-4552-9322-51ca5d0e8941.png)"
   ]
  },
  {
   "cell_type": "code",
   "execution_count": 42,
   "id": "938ca5a0-e343-483f-af2d-8aa64cd76178",
   "metadata": {},
   "outputs": [
    {
     "data": {
      "text/plain": [
       "torch.Size([1, 384])"
      ]
     },
     "execution_count": 42,
     "metadata": {},
     "output_type": "execute_result"
    }
   ],
   "source": [
    "x_shape"
   ]
  },
  {
   "cell_type": "code",
   "execution_count": 2,
   "id": "d61045e7-db14-4a71-bcbc-51fde2df0487",
   "metadata": {},
   "outputs": [
    {
     "ename": "NameError",
     "evalue": "name 't' is not defined",
     "output_type": "error",
     "traceback": [
      "\u001b[1;31m---------------------------------------------------------------------------\u001b[0m",
      "\u001b[1;31mNameError\u001b[0m                                 Traceback (most recent call last)",
      "Cell \u001b[1;32mIn[2], line 2\u001b[0m\n\u001b[0;32m      1\u001b[0m \u001b[38;5;66;03m# initialise weights\u001b[39;00m\n\u001b[1;32m----> 2\u001b[0m U1 \u001b[38;5;241m=\u001b[39m \u001b[43mt\u001b[49m\u001b[38;5;241m.\u001b[39mrandn(x_shape[\u001b[38;5;241m1\u001b[39m], n_hidden1) \u001b[38;5;241m*\u001b[39m \u001b[38;5;241m0.001\u001b[39m\n\u001b[0;32m      3\u001b[0m b1 \u001b[38;5;241m=\u001b[39m t\u001b[38;5;241m.\u001b[39mzeros(\u001b[38;5;241m1\u001b[39m,n_hidden1)\n\u001b[0;32m      4\u001b[0m U2 \u001b[38;5;241m=\u001b[39m t\u001b[38;5;241m.\u001b[39mrandn(n_hidden1,n_hidden2) \u001b[38;5;241m*\u001b[39m \u001b[38;5;241m0.001\u001b[39m\n",
      "\u001b[1;31mNameError\u001b[0m: name 't' is not defined"
     ]
    }
   ],
   "source": [
    "# initialise weights\n",
    "U1 = t.randn(x_shape[1], n_hidden1) * 0.001\n",
    "b1 = t.zeros(1,n_hidden1)\n",
    "U2 = t.randn(n_hidden1,n_hidden2) * 0.001\n",
    "W = t.randn(n_hidden2, n_hidden2) * 0.001\n",
    "b = t.zeros(1, n_hidden2)  # Initialize biases to zero\n",
    "# h = t.zeros(1, n_hidden)  # Initialize hidden state to zero\n",
    "\n",
    "V = t.randn(n_hidden2, num_classes) * 0.001\n",
    "Vb = t.zeros(num_classes)  # Initialize output bias to zero\n",
    "\n",
    "parameters = [U1,b1,U2,V,W,b,Vb]\n",
    "for param in parameters:\n",
    "    param.requires_grad = True\n",
    "    \n",
    "lr = 0.01\n",
    "losses = []"
   ]
  },
  {
   "cell_type": "code",
   "execution_count": 1,
   "id": "da65cf5a-b6ad-42fa-9e58-07e829127eb0",
   "metadata": {},
   "outputs": [
    {
     "ename": "NameError",
     "evalue": "name 'parameters' is not defined",
     "output_type": "error",
     "traceback": [
      "\u001b[1;31m---------------------------------------------------------------------------\u001b[0m",
      "\u001b[1;31mNameError\u001b[0m                                 Traceback (most recent call last)",
      "Cell \u001b[1;32mIn[1], line 1\u001b[0m\n\u001b[1;32m----> 1\u001b[0m \u001b[38;5;28;01mfor\u001b[39;00m name,param \u001b[38;5;129;01min\u001b[39;00m \u001b[38;5;28mzip\u001b[39m([\u001b[38;5;124m'\u001b[39m\u001b[38;5;124mU1\u001b[39m\u001b[38;5;124m'\u001b[39m,\u001b[38;5;124m'\u001b[39m\u001b[38;5;124mb1\u001b[39m\u001b[38;5;124m'\u001b[39m,\u001b[38;5;124m'\u001b[39m\u001b[38;5;124mU2\u001b[39m\u001b[38;5;124m'\u001b[39m,\u001b[38;5;124m'\u001b[39m\u001b[38;5;124mV\u001b[39m\u001b[38;5;124m'\u001b[39m,\u001b[38;5;124m'\u001b[39m\u001b[38;5;124mW\u001b[39m\u001b[38;5;124m'\u001b[39m,\u001b[38;5;124m'\u001b[39m\u001b[38;5;124mb\u001b[39m\u001b[38;5;124m'\u001b[39m,\u001b[38;5;124m'\u001b[39m\u001b[38;5;124mVb\u001b[39m\u001b[38;5;124m'\u001b[39m],\u001b[43mparameters\u001b[49m):\n\u001b[0;32m      2\u001b[0m     \u001b[38;5;28;01mwith\u001b[39;00m \u001b[38;5;28mopen\u001b[39m(\u001b[38;5;124mf\u001b[39m\u001b[38;5;124m'\u001b[39m\u001b[38;5;124mparams/\u001b[39m\u001b[38;5;132;01m{\u001b[39;00mname\u001b[38;5;132;01m}\u001b[39;00m\u001b[38;5;124m.pkl\u001b[39m\u001b[38;5;124m'\u001b[39m, \u001b[38;5;124m'\u001b[39m\u001b[38;5;124mrb\u001b[39m\u001b[38;5;124m'\u001b[39m) \u001b[38;5;28;01mas\u001b[39;00m f:\n\u001b[0;32m      3\u001b[0m         param \u001b[38;5;241m=\u001b[39m pickle\u001b[38;5;241m.\u001b[39mload(f)\n",
      "\u001b[1;31mNameError\u001b[0m: name 'parameters' is not defined"
     ]
    }
   ],
   "source": [
    "for name,param in zip(['U1','b1','U2','V','W','b','Vb'],parameters):\n",
    "    with open(f'params/{name}.pkl', 'rb') as f:\n",
    "        param = pickle.load(f)"
   ]
  },
  {
   "cell_type": "code",
   "execution_count": 128,
   "id": "fb16a2be-8f24-4dd6-85ee-bd2e55e91cce",
   "metadata": {},
   "outputs": [
    {
     "name": "stdout",
     "output_type": "stream",
     "text": [
      "99.0\n"
     ]
    }
   ],
   "source": [
    "# batch gradient decent\n",
    "for idx,(sx,sy) in enumerate(zip(x_emb[:-148],y[:-148])):\n",
    "\n",
    "    if idx%478 == 0:\n",
    "        clear_output(wait=True)\n",
    "        print(idx/478)\n",
    "    \n",
    "    avg_loss = 0\n",
    "    slen = len(sy)\n",
    "\n",
    "    h = t.zeros(1, n_hidden2)\n",
    "    \n",
    "    for wx,wy in zip(sx,sy):\n",
    "        # forward\n",
    "        pa = t.relu((wx @ U1)+b1)\n",
    "        \n",
    "        a = ((h @ W)+(pa @ U2)+b)\n",
    "        h = t.tanh(a)\n",
    "        o = h @ V + Vb\n",
    "        o = o.reshape(-1)\n",
    "        y_hat = t.softmax(o,dim=0)\n",
    "        loss = -t.log(y_hat[wy])\n",
    "        avg_loss += loss\n",
    "    \n",
    "    # backward\n",
    "    avg_loss = (1/slen) * avg_loss\n",
    "    losses.append(avg_loss.item())\n",
    "    \n",
    "    for param in parameters:\n",
    "        if param.grad is not None:\n",
    "            param.grad.zero_()\n",
    "    avg_loss.backward()\n",
    "\n",
    "    # step\n",
    "    with t.no_grad():\n",
    "        for param in parameters:\n",
    "            param -= lr*param.grad\n",
    "\n",
    "    "
   ]
  },
  {
   "cell_type": "code",
   "execution_count": 138,
   "id": "ea3af7fe-f80f-4c79-acb5-a14aaa3dfd17",
   "metadata": {},
   "outputs": [],
   "source": [
    "l = [(a+b)/2 for a,b in zip(losses,losses[100:])]\n",
    "losses = l"
   ]
  },
  {
   "cell_type": "code",
   "execution_count": 139,
   "id": "fe040fe9-7925-4d63-abc8-ad5c404e3a0c",
   "metadata": {},
   "outputs": [
    {
     "data": {
      "text/plain": [
       "[<matplotlib.lines.Line2D at 0x2652679ad50>]"
      ]
     },
     "execution_count": 139,
     "metadata": {},
     "output_type": "execute_result"
    },
    {
     "data": {
      "image/png": "[encoded data removed]",
      "text/plain": [
       "<Figure size 640x480 with 1 Axes>"
      ]
     },
     "metadata": {},
     "output_type": "display_data"
    }
   ],
   "source": [
    "plt.plot(losses)"
   ]
  },
  {
   "cell_type": "code",
   "execution_count": 130,
   "id": "2a8b358c-b75f-4053-877c-38b6cc4e68bd",
   "metadata": {},
   "outputs": [
    {
     "data": {
      "text/plain": [
       "0.004325121641159058"
      ]
     },
     "execution_count": 130,
     "metadata": {},
     "output_type": "execute_result"
    }
   ],
   "source": [
    "losses[-1]"
   ]
  },
  {
   "cell_type": "code",
   "execution_count": 150,
   "id": "681bcd73-0cb1-42bc-b107-e766692a0cc4",
   "metadata": {},
   "outputs": [],
   "source": [
    "for name,param in zip(['U1','b1','U2','V','W','b','Vb'],parameters):\n",
    "    with open(f'params/{name}.pkl', 'wb') as f:\n",
    "        pickle.dump(param, f)"
   ]
  },
  {
   "cell_type": "code",
   "execution_count": 132,
   "id": "5d6b1372-0e65-4a69-8810-cac66899a633",
   "metadata": {},
   "outputs": [],
   "source": [
    "%%capture\n",
    "s_test = 'heloo my name is smit shah, I am from Jamnagar. I am computer science student. I want to go to Germany for further study.'\n",
    "x_emb_test = [text_to_embeddings(i,model) for i in s_test.split()]\n",
    "y_test = [0,0,0,0,1,1,0,0,0,1,0,0,1,1,0,0,0,0,0,0,1,0,0,0]"
   ]
  },
  {
   "cell_type": "code",
   "execution_count": 137,
   "id": "93205cec-0202-4934-b8bb-58c6885e89ff",
   "metadata": {},
   "outputs": [
    {
     "data": {
      "text/plain": [
       "(0.9382022471910112, tensor(0.9230))"
      ]
     },
     "execution_count": 137,
     "metadata": {},
     "output_type": "execute_result"
    }
   ],
   "source": [
    "correct = 0\n",
    "confidance = 0\n",
    "num = 0 \n",
    "\n",
    "for idx,(sx,sy) in enumerate(zip(x_emb[-148:],y[-148:])):\n",
    "    with t.no_grad():\n",
    "        \n",
    "        h = t.zeros(1, n_hidden2)\n",
    "        \n",
    "        for wx,wy in zip(sx,sy):\n",
    "            \n",
    "            pa = t.relu((wx @ U1)+b1)    \n",
    "            a = ((h @ W)+(pa @ U2)+b)\n",
    "            h = t.tanh(a)\n",
    "            o = h @ V + Vb\n",
    "            o = o.reshape(-1)\n",
    "            y_hat = t.softmax(o,dim=0)\n",
    "            y_hat,conf = t.argmax(y_hat),t.max(y_hat)\n",
    "            num+=1\n",
    "            confidance+=conf\n",
    "            if y_hat==wy:\n",
    "                correct+=1\n",
    "\n",
    "\n",
    "correct/num,confidance/num"
   ]
  }
 ],
 "metadata": {
  "kernelspec": {
   "display_name": "Python 3 (ipykernel)",
   "language": "python",
   "name": "python3"
  },
  "language_info": {
   "codemirror_mode": {
    "name": "ipython",
    "version": 3
   },
   "file_extension": ".py",
   "mimetype": "text/x-python",
   "name": "python",
   "nbconvert_exporter": "python",
   "pygments_lexer": "ipython3",
   "version": "3.12.3"
  }
 },
 "nbformat": 4,
 "nbformat_minor": 5
}
